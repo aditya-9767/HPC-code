{
  "nbformat": 4,
  "nbformat_minor": 0,
  "metadata": {
    "colab": {
      "provenance": []
    },
    "kernelspec": {
      "name": "python3",
      "display_name": "Python 3"
    },
    "language_info": {
      "name": "python"
    }
  },
  "cells": [
    {
      "cell_type": "code",
      "execution_count": 1,
      "metadata": {
        "colab": {
          "base_uri": "https://localhost:8080/"
        },
        "id": "aSy-Et9x6dO5",
        "outputId": "18bf163d-a5ac-4b17-bb02-b34e39d2b1d9"
      },
      "outputs": [
        {
          "output_type": "stream",
          "name": "stdout",
          "text": [
            "nvcc: NVIDIA (R) Cuda compiler driver\n",
            "Copyright (c) 2005-2022 NVIDIA Corporation\n",
            "Built on Wed_Sep_21_10:33:58_PDT_2022\n",
            "Cuda compilation tools, release 11.8, V11.8.89\n",
            "Build cuda_11.8.r11.8/compiler.31833905_0\n"
          ]
        }
      ],
      "source": [
        "!nvcc --version\n"
      ]
    },
    {
      "cell_type": "code",
      "source": [
        "!pip install git+https://github.com/andreinechaev/nvcc4jupyter.git"
      ],
      "metadata": {
        "colab": {
          "base_uri": "https://localhost:8080/"
        },
        "id": "82Mz2z5E6izj",
        "outputId": "b4d7d5bf-78bd-4818-ecb9-654e92f576ad"
      },
      "execution_count": 2,
      "outputs": [
        {
          "output_type": "stream",
          "name": "stdout",
          "text": [
            "Looking in indexes: https://pypi.org/simple, https://us-python.pkg.dev/colab-wheels/public/simple/\n",
            "Collecting git+https://github.com/andreinechaev/nvcc4jupyter.git\n",
            "  Cloning https://github.com/andreinechaev/nvcc4jupyter.git to /tmp/pip-req-build-nndl7xcg\n",
            "  Running command git clone --filter=blob:none --quiet https://github.com/andreinechaev/nvcc4jupyter.git /tmp/pip-req-build-nndl7xcg\n",
            "  Resolved https://github.com/andreinechaev/nvcc4jupyter.git to commit aac710a35f52bb78ab34d2e52517237941399eff\n",
            "  Preparing metadata (setup.py) ... \u001b[?25l\u001b[?25hdone\n",
            "Building wheels for collected packages: NVCCPlugin\n",
            "  Building wheel for NVCCPlugin (setup.py) ... \u001b[?25l\u001b[?25hdone\n",
            "  Created wheel for NVCCPlugin: filename=NVCCPlugin-0.0.2-py3-none-any.whl size=4287 sha256=0f17a83b5a23752b73e949821a1c171dbb5c875e8842172247c2856a1fcbbd2c\n",
            "  Stored in directory: /tmp/pip-ephem-wheel-cache-2vfb7utw/wheels/a8/b9/18/23f8ef71ceb0f63297dd1903aedd067e6243a68ea756d6feea\n",
            "Successfully built NVCCPlugin\n",
            "Installing collected packages: NVCCPlugin\n",
            "Successfully installed NVCCPlugin-0.0.2\n"
          ]
        }
      ]
    },
    {
      "cell_type": "code",
      "source": [
        " %load_ext nvcc_plugin"
      ],
      "metadata": {
        "colab": {
          "base_uri": "https://localhost:8080/"
        },
        "id": "CjGB_oDZ6i7L",
        "outputId": "2fa39b61-f0c1-4ac6-f202-c1c6d1f9046d"
      },
      "execution_count": 3,
      "outputs": [
        {
          "output_type": "stream",
          "name": "stdout",
          "text": [
            "created output directory at /content/src\n",
            "Out bin /content/result.out\n"
          ]
        }
      ]
    },
    {
      "cell_type": "code",
      "source": [
        "%%cu\n",
        "#include <stdio.h>\n",
        "#include <cuda.h>\n",
        "#include <stdlib.h>\n",
        "#include <time.h>\n",
        "\n",
        "#define N 500\n",
        "\n",
        "__global__ void add(int *a, int *b, int *c)\n",
        "{\n",
        "    int tid = threadIdx.x;\n",
        "    if (tid < N)\n",
        "    {\n",
        "        c[tid] = a[tid] + b[tid];\n",
        "    }\n",
        "}\n",
        "\n",
        "int main(void)\n",
        "{\n",
        "    int a[N], b[N], c[N];\n",
        "    int *dev_a, *dev_b, *dev_c;\n",
        "    cudaError_t err = cudaSuccess;\n",
        "\n",
        "    err = cudaMalloc((void **)&dev_a, N * sizeof(int));\n",
        "    if (err != cudaSuccess)\n",
        "    {\n",
        "        printf(\"Failed to allocate memory on the device\\n\");\n",
        "        printf(\"Error: %s\\n\", cudaGetErrorString(err));\n",
        "        exit(EXIT_FAILURE);\n",
        "    }\n",
        "\n",
        "    cudaMalloc((void **)&dev_b, N * sizeof(int));\n",
        "    cudaMalloc((void **)&dev_c, N * sizeof(int));\n",
        "\n",
        "    for (int i = 0; i < N; i++)\n",
        "    {\n",
        "        a[i] = i;\n",
        "        b[i] = i * i;\n",
        "        c[i] = 0;\n",
        "    }\n",
        "\n",
        "    cudaEvent_t start, end;\n",
        "    cudaEventCreate(&start);\n",
        "    cudaEventCreate(&end);\n",
        "    cudaEventRecord(start);\n",
        "\n",
        "    cudaMemcpy(dev_a, a, N * sizeof(int), cudaMemcpyHostToDevice);\n",
        "    cudaMemcpy(dev_b, b, N * sizeof(int), cudaMemcpyHostToDevice);\n",
        "    cudaMemcpy(dev_c, c, N * sizeof(int), cudaMemcpyHostToDevice);\n",
        "\n",
        "    add<<<1, N>>>(dev_a, dev_b, dev_c);\n",
        "\n",
        "    err = cudaMemcpy(c, dev_c, N * sizeof(int), cudaMemcpyDeviceToHost);\n",
        "    if (err != cudaSuccess)\n",
        "    {\n",
        "        printf(\"Failed to copy data from device to host\\n\");\n",
        "        exit(EXIT_FAILURE);\n",
        "    }\n",
        "\n",
        "    cudaEventRecord(end);\n",
        "    cudaEventSynchronize(end);\n",
        "    float time = 0;\n",
        "    cudaEventElapsedTime(&time, start, end);\n",
        "    printf(\"Execution time: %f ms\\n\", time);\n",
        "\n",
        "    // Print the result\n",
        "    for (int i = 0; i < N; i++)\n",
        "    {\n",
        "        printf(\"%d + %d = %d\\n\", a[i], b[i], c[i]);\n",
        "    }\n",
        "\n",
        "    cudaFree(dev_a);\n",
        "    cudaFree(dev_b);\n",
        "    cudaFree(dev_c);\n",
        "\n",
        "    return 0;\n",
        "}\n"
      ],
      "metadata": {
        "colab": {
          "base_uri": "https://localhost:8080/"
        },
        "id": "-V3JOtoH6jBa",
        "outputId": "930c440c-7ea2-417a-a342-b4b3f3664a55"
      },
      "execution_count": 4,
      "outputs": [
        {
          "output_type": "stream",
          "name": "stdout",
          "text": [
            "Failed to allocate memory on the device\n",
            "Error: CUDA driver version is insufficient for CUDA runtime version\n",
            "\n"
          ]
        }
      ]
    }
  ]
}